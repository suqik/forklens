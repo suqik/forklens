{
 "cells": [
  {
   "cell_type": "code",
   "execution_count": null,
   "id": "8176d0fa-16a2-4ca9-a57c-bfda1f6957bb",
   "metadata": {},
   "outputs": [],
   "source": [
    "import config\n",
    "from forklens import train\n",
    "from forklens.dataset import ShapeDataset\n",
    "from torch.utils.data import DataLoader\n",
    "\n",
    "import numpy as np\n",
    "import matplotlib.pyplot as plt\n",
    "from astropy.io import fits\n",
    "import time"
   ]
  },
  {
   "cell_type": "markdown",
   "id": "6b19444e-690b-4086-a0cb-121e40ace358",
   "metadata": {},
   "source": [
    "In ./cali_code, I simply list the main codes we used in the shear calibration procedure, including the training data generation and training using the Tenblic code (Tewes et al 2019, http://cdsarc.u-strasbg.fr/viz-bin/qcat?J/A+A/621/A36).\n",
    "\n",
    "One may want to first install and learn how to use Tenblic before moving forward to this part."
   ]
  },
  {
   "cell_type": "code",
   "execution_count": null,
   "id": "3faa15ed-4cb3-41ac-a5c4-ee60b034f0d9",
   "metadata": {},
   "outputs": [],
   "source": [
    "tr = train.Train()\n",
    "model_file = \"../cnn_tests/model/test_model149\"\n",
    "model = tr.load_model(path=model_file,strict=True)"
   ]
  },
  {
   "cell_type": "code",
   "execution_count": null,
   "id": "e2cd09cb-4802-4e45-9146-677be0107562",
   "metadata": {},
   "outputs": [],
   "source": [
    "# Load data catalog\n",
    "with fits.open('../../data/csst_catalog_example.fits') as f:\n",
    "    cat = f[0].data\n",
    "cut_idx = np.where((cat[:,0]>0.1)&(cat[:,1]<25))[0]\n",
    "size_cat = cat[cut_idx,0]\n",
    "mag_cat = cat[cut_idx,1]"
   ]
  },
  {
   "cell_type": "markdown",
   "id": "23105b3b-03eb-4dc7-a142-14c7139f84f5",
   "metadata": {
    "tags": []
   },
   "source": [
    "## Type II data"
   ]
  },
  {
   "cell_type": "code",
   "execution_count": null,
   "id": "af55d471-50b2-4c69-8308-a0c2b2cf652d",
   "metadata": {},
   "outputs": [],
   "source": [
    "from forklens.dataset import ShearDataset\n",
    "\n",
    "from scipy.optimize import curve_fit"
   ]
  },
  {
   "cell_type": "code",
   "execution_count": null,
   "id": "fe936586-d10e-4b56-91e5-51c9bcdf191e",
   "metadata": {},
   "outputs": [],
   "source": [
    "case_num = 200\n",
    "real_num = 100000\n",
    "\n",
    "seed = 33333\n",
    "rng = np.random.RandomState(seed)\n",
    "Gal_Shear   = rng.random((case_num,2))*(-0.1-0.1)+0.1\n",
    "\n",
    "for i in range(case_num):\n",
    "    \n",
    "    sub_seed = seed + i\n",
    "    \n",
    "    rng1 = np.random.RandomState(sub_seed+1)\n",
    "    idx = rng1.randint(0,mag_cat.shape[0],size=int(real_num))\n",
    "    Gal_Hlr     = size_cat[idx]\n",
    "    # Gal_Hlr     = np.concatenate((Gal_Hlr, Gal_Hlr), axis=0)\n",
    "    Gal_Mag     = mag_cat[idx]\n",
    "    # Gal_Mag     = np.concatenate((Gal_Mag, Gal_Mag), axis=0)\n",
    "    \n",
    "    rng2 = np.random.RandomState(sub_seed+2)\n",
    "    Gal_Phi     = rng2.random(size=int(real_num))*(-np.pi/2-np.pi/2)+np.pi/2\n",
    "    # Gal_Phi     = np.concatenate((Gal_Phi, Gal_Phi+np.pi/2), axis=0)\n",
    "    \n",
    "    rng3 = np.random.RandomState(sub_seed+3)\n",
    "    Gal_AxRatio = rng3.random(size=int(real_num))*(0.5-1)+1\n",
    "    # Gal_AxRatio = np.concatenate((Gal_AxRatio, Gal_AxRatio), axis=0)\n",
    "    \n",
    "    Gal_E1 = (1-Gal_AxRatio)/(1+Gal_AxRatio)*np.cos(Gal_Phi*2)\n",
    "    Gal_E2 = (1-Gal_AxRatio)/(1+Gal_AxRatio)*np.sin(Gal_Phi*2)\n",
    "\n",
    "    PSF_randint = rng.randint(0,high=10000,size=real_num)\n",
    "    \n",
    "    if i == 0:\n",
    "        gal_pars = {}\n",
    "        gal_pars[\"e1\"] = Gal_E1\n",
    "        gal_pars[\"e2\"] = Gal_E2\n",
    "        gal_pars[\"hlr_disk\"] = Gal_Hlr\n",
    "        gal_pars[\"mag_i\"] = Gal_Mag\n",
    "        gal_pars['randint'] = PSF_randint\n",
    "    else:\n",
    "        gal_pars[\"e1\"] = np.vstack((gal_pars[\"e1\"], Gal_E1))\n",
    "        gal_pars[\"e2\"] = np.vstack((gal_pars[\"e2\"], Gal_E2))\n",
    "        gal_pars[\"hlr_disk\"] = np.vstack((gal_pars[\"hlr_disk\"], Gal_Hlr))\n",
    "        gal_pars[\"mag_i\"] = np.vstack((gal_pars[\"mag_i\"], Gal_Mag))\n",
    "        gal_pars['randint'] = np.vstack((gal_pars[\"randint\"], PSF_randint))\n",
    "\n",
    "shear_pars = {}\n",
    "shear_pars['shear'] = Gal_Shear"
   ]
  },
  {
   "cell_type": "code",
   "execution_count": null,
   "id": "ef3c0d86-0fe8-4c31-8643-bff65bbd82b8",
   "metadata": {},
   "outputs": [],
   "source": [
    "show_ds = ShearDataset(shear_pars, gal_pars)\n",
    "\n",
    "plt.figure(figsize=(10,10))\n",
    "\n",
    "for i in range(5):\n",
    "    for j in range(6):\n",
    "        plt.subplot(5,6,i*6+j+1)\n",
    "        #print(j)\n",
    "        plt.text(10,30,'%d'%show_ds.__getitem__(i*real_num+j)['snr'],color='white',fontsize=18)\n",
    "        gal_im = show_ds.__getitem__(i*real_num+j)['gal_image'][0]\n",
    "        plt.imshow(gal_im,cmap='gray')\n",
    "        plt.xticks([])\n",
    "        plt.yticks([])\n",
    "        \n",
    "plt.subplots_adjust(wspace=0., hspace=-0.3)"
   ]
  },
  {
   "cell_type": "code",
   "execution_count": null,
   "id": "0944eccf-2969-4640-b157-6e561819c881",
   "metadata": {},
   "outputs": [],
   "source": [
    "# this might takes hours depending on the data volume\n",
    "start = time.time()\n",
    "\n",
    "shear_ds = ShearDataset(shear_pars, gal_pars)\n",
    "shear_dl = DataLoader(shear_ds, \n",
    "                      batch_size=250, \n",
    "                      num_workers=20)\n",
    "\n",
    "pred, true, _, _ = tr._predictFunc(shear_dl,model)\n",
    "diff = pred - true\n",
    "\n",
    "(time.time()-start)/60"
   ]
  },
  {
   "cell_type": "code",
   "execution_count": null,
   "id": "46a9a05d-a092-4a3f-8812-fabc8dae7dd3",
   "metadata": {},
   "outputs": [],
   "source": [
    "# Save\n",
    "# hdu0 = fits.PrimaryHDU(pred[:,0:5])\n",
    "# hdu1 = fits.ImageHDU(Gal_Shear[:,0])\n",
    "# hdul = fits.HDUList([hdu0,hdu1])\n",
    "# hdul.writeto('TypeII_200case_100000real.fits')"
   ]
  },
  {
   "cell_type": "code",
   "execution_count": null,
   "id": "0bea4767-0541-471a-a49b-83f5014ab41e",
   "metadata": {},
   "outputs": [],
   "source": [
    "results = pred[:,1:].reshape(case_num,real_num,4)\n",
    "g = np.zeros((case_num,2))\n",
    "for i in range(case_num):\n",
    "    g[i,0] = np.mean(results[i,:,0])\n",
    "    g[i,1] = np.mean(results[i,:,1])\n",
    "\n",
    "\n",
    "coeffs, cov = np.polyfit(shear_pars['shear'][:,0], \n",
    "                         g[:,0]-shear_pars['shear'][:,0], 1, cov=True)\n",
    "\n",
    "# Extract the best-fit values and standard deviations\n",
    "k, b = coeffs\n",
    "std_k = np.sqrt(cov[0, 0])\n",
    "std_b = np.sqrt(cov[1, 1])\n",
    "\n",
    "# m, m error, c, c error\n",
    "k,std_k,b,std_b"
   ]
  },
  {
   "cell_type": "code",
   "execution_count": null,
   "id": "fa33243f-581f-4485-b7c0-815ba28cb3ad",
   "metadata": {},
   "outputs": [],
   "source": [
    "plt.figure(figsize=(8,6))\n",
    "\n",
    "plt.scatter(shear_pars['shear'][:,0],g[:,0]-shear_pars['shear'][:,0],s=3,color='maroon',alpha=0.7)\n",
    "\n",
    "plt.axhline(0,color='k',linestyle='--',linewidth=4)\n",
    "x = np.linspace(-0.1,0.1)\n",
    "y = k*x+b\n",
    "plt.plot(x,y,color='gold',linewidth=4)\n",
    "\n",
    "plt.ylim(-0.1,0.1)\n",
    "plt.tick_params(axis='both',which='major',labelsize=13)\n",
    "plt.xlabel(r'$g^{true}_1$',fontsize=18)\n",
    "plt.ylabel(r'$\\left<g_1\\right>-g^{true}_1$',fontsize=18)\n",
    "plt.title('CNN shear measurement', fontsize=18)"
   ]
  },
  {
   "cell_type": "markdown",
   "id": "d4035167-8048-4185-94a6-420e9b36ec90",
   "metadata": {
    "tags": []
   },
   "source": [
    "## Type I data"
   ]
  },
  {
   "cell_type": "code",
   "execution_count": null,
   "id": "76b78332-a781-4462-859f-46d39507d941",
   "metadata": {},
   "outputs": [],
   "source": [
    "from forklens.dataset import CaliDataset"
   ]
  },
  {
   "cell_type": "code",
   "execution_count": null,
   "id": "fec322cb-a2d6-4de6-b9b2-26d69cc3d9ad",
   "metadata": {},
   "outputs": [],
   "source": [
    "case_num = 5000\n",
    "real_num = 2000\n",
    "\n",
    "seed = 12345\n",
    "rng = np.random.RandomState(seed)\n",
    "Gal_Shear   = rng.random((case_num,2))*(-0.1-0.1)+0.1\n",
    "\n",
    "rng1 = np.random.RandomState(seed + 1)\n",
    "idx = rng1.randint(0,mag_cat.shape[0],size=(case_num,1))\n",
    "Gal_Hlr     = size_cat[idx]\n",
    "Gal_Mag     = mag_cat[idx]\n",
    "\n",
    "Gal_Phi     = np.linspace(-np.pi/2,np.pi/2,int(real_num/2))\n",
    "Gal_Phi     = np.concatenate((Gal_Phi, Gal_Phi+np.pi/2),axis=0)\n",
    "\n",
    "rng2 = np.random.RandomState(seed + 2)\n",
    "Gal_AxRatio = rng1.random(size=(case_num,1))*(0.1-1)+1\n",
    "\n",
    "Gal_E1 = (1-Gal_AxRatio)/(1+Gal_AxRatio)*np.cos(Gal_Phi*2)\n",
    "Gal_E2 = (1-Gal_AxRatio)/(1+Gal_AxRatio)*np.sin(Gal_Phi*2)\n",
    "\n",
    "rng3 = np.random.RandomState(seed + 3)\n",
    "PSF_randint = rng.randint(0,high=10000,size=(case_num,1))\n",
    "\n",
    "gal_pars = {}\n",
    "gal_pars[\"e1\"] = Gal_E1\n",
    "gal_pars[\"e2\"] = Gal_E2\n",
    "gal_pars[\"hlr_disk\"] = Gal_Hlr\n",
    "gal_pars[\"mag_i\"] = Gal_Mag\n",
    "gal_pars['randint'] = PSF_randint\n",
    "\n",
    "shear_pars = {}\n",
    "shear_pars['shear'] = Gal_Shear"
   ]
  },
  {
   "cell_type": "code",
   "execution_count": null,
   "id": "e303d8fe-b440-4d3b-a941-6891f3214a2b",
   "metadata": {},
   "outputs": [],
   "source": [
    "show_ds = CaliDataset(shear_pars, gal_pars)\n",
    "\n",
    "plt.figure(figsize=(10,10))\n",
    "\n",
    "for i in range(5):\n",
    "    for j in range(6):\n",
    "        plt.subplot(5,6,i*6+j+1)\n",
    "        #print(j)\n",
    "        if j == 0:\n",
    "            plt.text(10,30,'%d'%show_ds.__getitem__(i*real_num+j)['snr'],color='white',fontsize=18)\n",
    "        gal_im = show_ds.__getitem__(i*real_num+j)['gal_image'][0]\n",
    "        plt.imshow(gal_im,cmap='gray')\n",
    "        plt.xticks([])\n",
    "        plt.yticks([])\n",
    "        \n",
    "plt.subplots_adjust(wspace=0., hspace=-0.3)"
   ]
  },
  {
   "cell_type": "code",
   "execution_count": null,
   "id": "55081560-91af-4f58-93f1-2363a8a90736",
   "metadata": {},
   "outputs": [],
   "source": [
    "# this might takes hours depending on the data volume\n",
    "start = time.time()\n",
    "\n",
    "cali_ds = CaliDataset(shear_pars, gal_pars)\n",
    "\n",
    "cali_dl = DataLoader(cali_ds, \n",
    "                      batch_size=250,\n",
    "                      num_workers=20)\n",
    "\n",
    "cali_pred, cali_true, cali_snr, loss = tr._predictFunc(cali_dl,model)\n",
    "\n",
    "(time.time()-start)/60"
   ]
  },
  {
   "cell_type": "code",
   "execution_count": null,
   "id": "1a8a7e85-607b-47d5-a4df-48e55b25aedc",
   "metadata": {},
   "outputs": [],
   "source": [
    "dataset = np.zeros((case_num*real_num,8))\n",
    "dataset[:,0:5] = cali_pred\n",
    "\n",
    "box = np.zeros((case_num*real_num,2))\n",
    "for i in range(case_num*real_num):\n",
    "    idx = i//real_num\n",
    "    box[i,0:2] = Gal_Shear[idx,:]\n",
    "\n",
    "dataset[:,5:7] = box\n",
    "dataset[:,7] = cali_snr[:,1]"
   ]
  },
  {
   "cell_type": "code",
   "execution_count": null,
   "id": "151c12cb-909d-44f7-9b36-8d07b3d65c2d",
   "metadata": {},
   "outputs": [],
   "source": [
    "# Save\n",
    "# hdu = fits.PrimaryHDU(dataset)\n",
    "# hdul = fits.HDUList([hdu])\n",
    "# hdul.writeto('TypeI_5000case_2000real.fits')"
   ]
  },
  {
   "cell_type": "code",
   "execution_count": null,
   "id": "fb7bd136-880b-4bc5-90c5-e9d66f3ddaf4",
   "metadata": {},
   "outputs": [],
   "source": []
  }
 ],
 "metadata": {
  "kernelspec": {
   "display_name": "Python 3 (ipykernel)",
   "language": "python",
   "name": "python3"
  },
  "language_info": {
   "codemirror_mode": {
    "name": "ipython",
    "version": 3
   },
   "file_extension": ".py",
   "mimetype": "text/x-python",
   "name": "python",
   "nbconvert_exporter": "python",
   "pygments_lexer": "ipython3",
   "version": "3.9.7"
  }
 },
 "nbformat": 4,
 "nbformat_minor": 5
}
